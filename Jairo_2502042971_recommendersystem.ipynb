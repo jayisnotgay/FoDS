{
  "cells": [
    {
      "cell_type": "markdown",
      "metadata": {
        "id": "8ZonY_oYNjt_"
      },
      "source": [
        "<h3><b> Based on this exercise, discuss the the questions in Quizizz with your group"
      ]
    },
    {
      "cell_type": "markdown",
      "metadata": {
        "id": "k5Xr9Dv4NjuF"
      },
      "source": [
        "Steps in a user-based recommendation system:\n",
        "\n",
        "1. Select a user with the movies the user has watched\n",
        "2. Based on his rating to movies, find the top x neighbours\n",
        "3. Get the watched movie record of the user for each neighbour.\n",
        "4. Calculate a similarity score using some formula\n",
        "5. Recommend the items with the highest score"
      ]
    },
    {
      "cell_type": "code",
      "execution_count": 22,
      "metadata": {
        "id": "m32700SVNjuL"
      },
      "outputs": [],
      "source": [
        "import pandas as pd\n",
        "from math import sqrt\n",
        "import numpy as np\n"
      ]
    },
    {
      "cell_type": "code",
      "execution_count": 23,
      "metadata": {
        "colab": {
          "base_uri": "https://localhost:8080/",
          "height": 988
        },
        "id": "maXzLmxGNjuO",
        "outputId": "77fafe67-3cd4-4b0f-e1ba-ca4dfb543ddc"
      },
      "outputs": [
        {
          "output_type": "stream",
          "name": "stdout",
          "text": [
            "<class 'pandas.core.frame.DataFrame'>\n",
            "RangeIndex: 15221 entries, 0 to 15220\n",
            "Data columns (total 10 columns):\n",
            " #   Column      Non-Null Count  Dtype  \n",
            "---  ------      --------------  -----  \n",
            " 0   anime_id    15221 non-null  int64  \n",
            " 1   title       15221 non-null  object \n",
            " 2   genres      15218 non-null  object \n",
            " 3   media       15221 non-null  object \n",
            " 4   episodes    15221 non-null  int64  \n",
            " 5   rating      11876 non-null  float64\n",
            " 6   members     15205 non-null  float64\n",
            " 7   start_date  15221 non-null  object \n",
            " 8   season      15221 non-null  object \n",
            " 9   source      12294 non-null  object \n",
            "dtypes: float64(2), int64(2), object(6)\n",
            "memory usage: 1.2+ MB\n"
          ]
        },
        {
          "output_type": "execute_result",
          "data": {
            "text/plain": [
              "       anime_id                                              title  \\\n",
              "0             1                                       Cowboy Bebop   \n",
              "1             5                    Cowboy Bebop: Tengoku no Tobira   \n",
              "2             6                                             Trigun   \n",
              "3             7                                 Witch Hunter Robin   \n",
              "4             8                                     Bouken Ou Beet   \n",
              "...         ...                                                ...   \n",
              "15216     42392  Grisaia: Phantom Trigger The Animation - Starg...   \n",
              "15217     42395                                 Shakunetsu Kabaddi   \n",
              "15218     42397                             Benkai to Ushiwakamaru   \n",
              "15219     42399                                    Honnouji no Hen   \n",
              "15220     42400                                        Heian Sento   \n",
              "\n",
              "                                               genres  media  episodes  \\\n",
              "0          Action,Adventure,Comedy,Drama,Sci-Fi,Space     tv        26   \n",
              "1                   Action,Drama,Mystery,Sci-Fi,Space  movie         1   \n",
              "2        Action,Sci-Fi,Adventure,Comedy,Drama,Shounen     tv        26   \n",
              "3      Action,Mystery,Police,Supernatural,Drama,Magic     tv        26   \n",
              "4              Adventure,Fantasy,Shounen,Supernatural     tv        52   \n",
              "...                                               ...    ...       ...   \n",
              "15216                                   Action,School  movie         1   \n",
              "15217                     Action,Comedy,School,Sports     tv        12   \n",
              "15218                       Comedy,Historical,Samurai  movie         1   \n",
              "15219                              Historical,Samurai  movie         1   \n",
              "15220                               Comedy,Historical  movie         1   \n",
              "\n",
              "       rating    members  start_date       season        source  \n",
              "0        8.77  1324054.0    1998/4/3  spring_1998      original  \n",
              "1        8.39   284827.0    2001/9/1  summer_2001      original  \n",
              "2        8.23   578887.0    1998/4/1  spring_1998         manga  \n",
              "3        7.27    96487.0    2002/7/2  summer_2002      original  \n",
              "4        6.97    13450.0   2004/9/30    fall_2004         manga  \n",
              "...       ...        ...         ...          ...           ...  \n",
              "15216    6.95    16328.0  2020/11/27    fall_2020  visual_novel  \n",
              "15217    7.10    49112.0    2021/4/3  spring_2021     web_manga  \n",
              "15218     NaN       65.0   1999/12/4    fall_1999           NaN  \n",
              "15219     NaN       68.0   2000/3/18  winter_2000           NaN  \n",
              "15220     NaN      117.0   2000/11/3    fall_2000           NaN  \n",
              "\n",
              "[15221 rows x 10 columns]"
            ],
            "text/html": [
              "\n",
              "  <div id=\"df-1f2745af-dc63-4e8a-a188-40bca22079ae\">\n",
              "    <div class=\"colab-df-container\">\n",
              "      <div>\n",
              "<style scoped>\n",
              "    .dataframe tbody tr th:only-of-type {\n",
              "        vertical-align: middle;\n",
              "    }\n",
              "\n",
              "    .dataframe tbody tr th {\n",
              "        vertical-align: top;\n",
              "    }\n",
              "\n",
              "    .dataframe thead th {\n",
              "        text-align: right;\n",
              "    }\n",
              "</style>\n",
              "<table border=\"1\" class=\"dataframe\">\n",
              "  <thead>\n",
              "    <tr style=\"text-align: right;\">\n",
              "      <th></th>\n",
              "      <th>anime_id</th>\n",
              "      <th>title</th>\n",
              "      <th>genres</th>\n",
              "      <th>media</th>\n",
              "      <th>episodes</th>\n",
              "      <th>rating</th>\n",
              "      <th>members</th>\n",
              "      <th>start_date</th>\n",
              "      <th>season</th>\n",
              "      <th>source</th>\n",
              "    </tr>\n",
              "  </thead>\n",
              "  <tbody>\n",
              "    <tr>\n",
              "      <th>0</th>\n",
              "      <td>1</td>\n",
              "      <td>Cowboy Bebop</td>\n",
              "      <td>Action,Adventure,Comedy,Drama,Sci-Fi,Space</td>\n",
              "      <td>tv</td>\n",
              "      <td>26</td>\n",
              "      <td>8.77</td>\n",
              "      <td>1324054.0</td>\n",
              "      <td>1998/4/3</td>\n",
              "      <td>spring_1998</td>\n",
              "      <td>original</td>\n",
              "    </tr>\n",
              "    <tr>\n",
              "      <th>1</th>\n",
              "      <td>5</td>\n",
              "      <td>Cowboy Bebop: Tengoku no Tobira</td>\n",
              "      <td>Action,Drama,Mystery,Sci-Fi,Space</td>\n",
              "      <td>movie</td>\n",
              "      <td>1</td>\n",
              "      <td>8.39</td>\n",
              "      <td>284827.0</td>\n",
              "      <td>2001/9/1</td>\n",
              "      <td>summer_2001</td>\n",
              "      <td>original</td>\n",
              "    </tr>\n",
              "    <tr>\n",
              "      <th>2</th>\n",
              "      <td>6</td>\n",
              "      <td>Trigun</td>\n",
              "      <td>Action,Sci-Fi,Adventure,Comedy,Drama,Shounen</td>\n",
              "      <td>tv</td>\n",
              "      <td>26</td>\n",
              "      <td>8.23</td>\n",
              "      <td>578887.0</td>\n",
              "      <td>1998/4/1</td>\n",
              "      <td>spring_1998</td>\n",
              "      <td>manga</td>\n",
              "    </tr>\n",
              "    <tr>\n",
              "      <th>3</th>\n",
              "      <td>7</td>\n",
              "      <td>Witch Hunter Robin</td>\n",
              "      <td>Action,Mystery,Police,Supernatural,Drama,Magic</td>\n",
              "      <td>tv</td>\n",
              "      <td>26</td>\n",
              "      <td>7.27</td>\n",
              "      <td>96487.0</td>\n",
              "      <td>2002/7/2</td>\n",
              "      <td>summer_2002</td>\n",
              "      <td>original</td>\n",
              "    </tr>\n",
              "    <tr>\n",
              "      <th>4</th>\n",
              "      <td>8</td>\n",
              "      <td>Bouken Ou Beet</td>\n",
              "      <td>Adventure,Fantasy,Shounen,Supernatural</td>\n",
              "      <td>tv</td>\n",
              "      <td>52</td>\n",
              "      <td>6.97</td>\n",
              "      <td>13450.0</td>\n",
              "      <td>2004/9/30</td>\n",
              "      <td>fall_2004</td>\n",
              "      <td>manga</td>\n",
              "    </tr>\n",
              "    <tr>\n",
              "      <th>...</th>\n",
              "      <td>...</td>\n",
              "      <td>...</td>\n",
              "      <td>...</td>\n",
              "      <td>...</td>\n",
              "      <td>...</td>\n",
              "      <td>...</td>\n",
              "      <td>...</td>\n",
              "      <td>...</td>\n",
              "      <td>...</td>\n",
              "      <td>...</td>\n",
              "    </tr>\n",
              "    <tr>\n",
              "      <th>15216</th>\n",
              "      <td>42392</td>\n",
              "      <td>Grisaia: Phantom Trigger The Animation - Starg...</td>\n",
              "      <td>Action,School</td>\n",
              "      <td>movie</td>\n",
              "      <td>1</td>\n",
              "      <td>6.95</td>\n",
              "      <td>16328.0</td>\n",
              "      <td>2020/11/27</td>\n",
              "      <td>fall_2020</td>\n",
              "      <td>visual_novel</td>\n",
              "    </tr>\n",
              "    <tr>\n",
              "      <th>15217</th>\n",
              "      <td>42395</td>\n",
              "      <td>Shakunetsu Kabaddi</td>\n",
              "      <td>Action,Comedy,School,Sports</td>\n",
              "      <td>tv</td>\n",
              "      <td>12</td>\n",
              "      <td>7.10</td>\n",
              "      <td>49112.0</td>\n",
              "      <td>2021/4/3</td>\n",
              "      <td>spring_2021</td>\n",
              "      <td>web_manga</td>\n",
              "    </tr>\n",
              "    <tr>\n",
              "      <th>15218</th>\n",
              "      <td>42397</td>\n",
              "      <td>Benkai to Ushiwakamaru</td>\n",
              "      <td>Comedy,Historical,Samurai</td>\n",
              "      <td>movie</td>\n",
              "      <td>1</td>\n",
              "      <td>NaN</td>\n",
              "      <td>65.0</td>\n",
              "      <td>1999/12/4</td>\n",
              "      <td>fall_1999</td>\n",
              "      <td>NaN</td>\n",
              "    </tr>\n",
              "    <tr>\n",
              "      <th>15219</th>\n",
              "      <td>42399</td>\n",
              "      <td>Honnouji no Hen</td>\n",
              "      <td>Historical,Samurai</td>\n",
              "      <td>movie</td>\n",
              "      <td>1</td>\n",
              "      <td>NaN</td>\n",
              "      <td>68.0</td>\n",
              "      <td>2000/3/18</td>\n",
              "      <td>winter_2000</td>\n",
              "      <td>NaN</td>\n",
              "    </tr>\n",
              "    <tr>\n",
              "      <th>15220</th>\n",
              "      <td>42400</td>\n",
              "      <td>Heian Sento</td>\n",
              "      <td>Comedy,Historical</td>\n",
              "      <td>movie</td>\n",
              "      <td>1</td>\n",
              "      <td>NaN</td>\n",
              "      <td>117.0</td>\n",
              "      <td>2000/11/3</td>\n",
              "      <td>fall_2000</td>\n",
              "      <td>NaN</td>\n",
              "    </tr>\n",
              "  </tbody>\n",
              "</table>\n",
              "<p>15221 rows × 10 columns</p>\n",
              "</div>\n",
              "      <button class=\"colab-df-convert\" onclick=\"convertToInteractive('df-1f2745af-dc63-4e8a-a188-40bca22079ae')\"\n",
              "              title=\"Convert this dataframe to an interactive table.\"\n",
              "              style=\"display:none;\">\n",
              "        \n",
              "  <svg xmlns=\"http://www.w3.org/2000/svg\" height=\"24px\"viewBox=\"0 0 24 24\"\n",
              "       width=\"24px\">\n",
              "    <path d=\"M0 0h24v24H0V0z\" fill=\"none\"/>\n",
              "    <path d=\"M18.56 5.44l.94 2.06.94-2.06 2.06-.94-2.06-.94-.94-2.06-.94 2.06-2.06.94zm-11 1L8.5 8.5l.94-2.06 2.06-.94-2.06-.94L8.5 2.5l-.94 2.06-2.06.94zm10 10l.94 2.06.94-2.06 2.06-.94-2.06-.94-.94-2.06-.94 2.06-2.06.94z\"/><path d=\"M17.41 7.96l-1.37-1.37c-.4-.4-.92-.59-1.43-.59-.52 0-1.04.2-1.43.59L10.3 9.45l-7.72 7.72c-.78.78-.78 2.05 0 2.83L4 21.41c.39.39.9.59 1.41.59.51 0 1.02-.2 1.41-.59l7.78-7.78 2.81-2.81c.8-.78.8-2.07 0-2.86zM5.41 20L4 18.59l7.72-7.72 1.47 1.35L5.41 20z\"/>\n",
              "  </svg>\n",
              "      </button>\n",
              "      \n",
              "  <style>\n",
              "    .colab-df-container {\n",
              "      display:flex;\n",
              "      flex-wrap:wrap;\n",
              "      gap: 12px;\n",
              "    }\n",
              "\n",
              "    .colab-df-convert {\n",
              "      background-color: #E8F0FE;\n",
              "      border: none;\n",
              "      border-radius: 50%;\n",
              "      cursor: pointer;\n",
              "      display: none;\n",
              "      fill: #1967D2;\n",
              "      height: 32px;\n",
              "      padding: 0 0 0 0;\n",
              "      width: 32px;\n",
              "    }\n",
              "\n",
              "    .colab-df-convert:hover {\n",
              "      background-color: #E2EBFA;\n",
              "      box-shadow: 0px 1px 2px rgba(60, 64, 67, 0.3), 0px 1px 3px 1px rgba(60, 64, 67, 0.15);\n",
              "      fill: #174EA6;\n",
              "    }\n",
              "\n",
              "    [theme=dark] .colab-df-convert {\n",
              "      background-color: #3B4455;\n",
              "      fill: #D2E3FC;\n",
              "    }\n",
              "\n",
              "    [theme=dark] .colab-df-convert:hover {\n",
              "      background-color: #434B5C;\n",
              "      box-shadow: 0px 1px 3px 1px rgba(0, 0, 0, 0.15);\n",
              "      filter: drop-shadow(0px 1px 2px rgba(0, 0, 0, 0.3));\n",
              "      fill: #FFFFFF;\n",
              "    }\n",
              "  </style>\n",
              "\n",
              "      <script>\n",
              "        const buttonEl =\n",
              "          document.querySelector('#df-1f2745af-dc63-4e8a-a188-40bca22079ae button.colab-df-convert');\n",
              "        buttonEl.style.display =\n",
              "          google.colab.kernel.accessAllowed ? 'block' : 'none';\n",
              "\n",
              "        async function convertToInteractive(key) {\n",
              "          const element = document.querySelector('#df-1f2745af-dc63-4e8a-a188-40bca22079ae');\n",
              "          const dataTable =\n",
              "            await google.colab.kernel.invokeFunction('convertToInteractive',\n",
              "                                                     [key], {});\n",
              "          if (!dataTable) return;\n",
              "\n",
              "          const docLinkHtml = 'Like what you see? Visit the ' +\n",
              "            '<a target=\"_blank\" href=https://colab.research.google.com/notebooks/data_table.ipynb>data table notebook</a>'\n",
              "            + ' to learn more about interactive tables.';\n",
              "          element.innerHTML = '';\n",
              "          dataTable['output_type'] = 'display_data';\n",
              "          await google.colab.output.renderOutput(dataTable, element);\n",
              "          const docLink = document.createElement('div');\n",
              "          docLink.innerHTML = docLinkHtml;\n",
              "          element.appendChild(docLink);\n",
              "        }\n",
              "      </script>\n",
              "    </div>\n",
              "  </div>\n",
              "  "
            ]
          },
          "metadata": {},
          "execution_count": 23
        }
      ],
      "source": [
        "animes_df = pd.read_csv('animes.csv')\n",
        "ratings_df = pd.read_csv('ratings.csv')\n",
        "animes_df.info()\n",
        "animes_df\n",
        "\n"
      ]
    },
    {
      "cell_type": "code",
      "execution_count": 35,
      "metadata": {
        "colab": {
          "base_uri": "https://localhost:8080/"
        },
        "id": "gW_QBJHLNjuP",
        "outputId": "47b4e813-0386-4c91-b62b-65ec0447f15b"
      },
      "outputs": [
        {
          "output_type": "stream",
          "name": "stdout",
          "text": [
            "                title  rating\n",
            "0        Cowboy Bebop    8.77\n",
            "1              Trigun    8.23\n",
            "2  Witch Hunter Robin    7.27\n",
            "3   Full Metal Panic!    7.64\n",
            "4               Akira    8.17\n"
          ]
        }
      ],
      "source": [
        "userInput = [{'title':'Cowboy Bebop', 'rating':8.77},\n",
        "             {'title':'Trigun', 'rating':8.23},\n",
        "             {'title':'Witch Hunter Robin', 'rating':7.27},\n",
        "             {'title':'Full Metal Panic!', 'rating':7.64},\n",
        "             {'title':'Akira', 'rating':8.17}]\n",
        "inputAnimes = pd.DataFrame(userInput)\n",
        "print(inputAnimes)"
      ]
    },
    {
      "cell_type": "code",
      "execution_count": 36,
      "metadata": {
        "colab": {
          "base_uri": "https://localhost:8080/"
        },
        "id": "SFApFIiDNjuR",
        "outputId": "c7aa5165-099e-4b1b-9729-bc127bbb8f42"
      },
      "outputs": [
        {
          "output_type": "stream",
          "name": "stdout",
          "text": [
            "   anime_id               title  rating\n",
            "0         1        Cowboy Bebop    8.77\n",
            "1         6              Trigun    8.23\n",
            "2         7  Witch Hunter Robin    7.27\n",
            "3        47               Akira    8.17\n",
            "4        71   Full Metal Panic!    7.64\n"
          ]
        }
      ],
      "source": [
        "inputId = animes_df[animes_df['title'].isin(inputAnimes['title'].tolist())]\n",
        "inputAnimes = pd.merge(inputId, inputAnimes)\n",
        "inputAnimes = inputAnimes[['anime_id','title','rating']]\n",
        "print(inputAnimes)"
      ]
    },
    {
      "cell_type": "markdown",
      "metadata": {
        "id": "r_23sJ1vNjuS"
      },
      "source": [
        "#### Now with the `movieId` in our input, we can now get the subset of users that have watched and reviewed the movies in our input. Find the similar user taste."
      ]
    },
    {
      "cell_type": "code",
      "execution_count": 38,
      "metadata": {
        "colab": {
          "base_uri": "https://localhost:8080/"
        },
        "id": "BmGI-DmrNjuS",
        "outputId": "af80c1d8-dbc6-422d-c07e-737bd4f8a7cf"
      },
      "outputs": [
        {
          "output_type": "stream",
          "name": "stdout",
          "text": [
            "          user_id  rating\n",
            "anime_id                 \n",
            "1           11708   11708\n",
            "6            7471    7471\n",
            "7            1673    1673\n",
            "47           7862    7862\n",
            "71           8345    8345\n"
          ]
        }
      ],
      "source": [
        "userSubset = ratings_df[ratings_df['anime_id'].isin(inputAnimes['anime_id'].tolist())]\n",
        "print(userSubset.groupby('anime_id').count())"
      ]
    },
    {
      "cell_type": "code",
      "execution_count": 39,
      "metadata": {
        "colab": {
          "base_uri": "https://localhost:8080/"
        },
        "id": "-1566eb1NjuU",
        "outputId": "d6206cc7-b2d8-42c5-b4e8-141f7fbafad3"
      },
      "outputs": [
        {
          "output_type": "stream",
          "name": "stdout",
          "text": [
            "[(42,       user_id  anime_id  rating\n",
            "2778       42        47       0\n",
            "2885       42         1       0\n",
            "2974       42        71       0\n",
            "3564       42         6       0\n",
            "3597       42         7       0), (48,       user_id  anime_id  rating\n",
            "5753       48        47       8\n",
            "5838       48         1       9\n",
            "5904       48        71       8\n",
            "6294       48         6       9\n",
            "6307       48         7       8), (73,       user_id  anime_id  rating\n",
            "9155       73        47       6\n",
            "9243       73         1       9\n",
            "9309       73        71       7\n",
            "9669       73         6       9\n",
            "9684       73         7       8), (150,        user_id  anime_id  rating\n",
            "16776      150        47      10\n",
            "16788      150         1      10\n",
            "16797      150        71       6\n",
            "16860      150         6       8\n",
            "16864      150         7       8), (164,        user_id  anime_id  rating\n",
            "18423      164        47       6\n",
            "18453      164         1       7\n",
            "18473      164        71       9\n",
            "18642      164         6       8\n",
            "18652      164         7      10)]\n"
          ]
        }
      ],
      "source": [
        "#Groupby creates several sub dataframes where they all have the same value in the column specified as the parameter\n",
        "userSubsetGroup = userSubset.groupby(['user_id'])\n",
        "\n",
        "def take_5_elem(x):\n",
        "    # print (len(x[1]))\n",
        "    return len(x[1])\n",
        "    \n",
        "\n",
        "#Sorting it so users with movie most in common with the input will have priority\n",
        "userSubsetGroup = sorted(userSubsetGroup, key=take_5_elem, reverse=True)\n",
        "\n",
        "userSubsetGroup = userSubsetGroup[0:100]\n",
        "print(userSubsetGroup[0:5])\n"
      ]
    },
    {
      "cell_type": "code",
      "execution_count": 40,
      "metadata": {
        "id": "h_KYBeMtNjuV"
      },
      "outputs": [],
      "source": [
        "#Store the Pearson Correlation in a dictionary, where the key is the user Id and the value is the coefficient\n",
        "pearsonCorrelationDict = {}\n",
        "\n",
        "#For every user group in our subset\n",
        "for name, group in userSubsetGroup:\n",
        "\n",
        "    #Let's start by sorting the input and current user group so the values aren't mixed up later on\n",
        "    group = group.sort_values(by='anime_id')\n",
        "    inputAnimes = inputAnimes.sort_values(by='anime_id')\n",
        "\n",
        "    #Get the N for the formula\n",
        "    nRatings = len(group)\n",
        "\n",
        "    #Get the review scores for the movies that they both have in common\n",
        "    temp_df = inputAnimes[inputAnimes['anime_id'].isin(group['anime_id'].tolist())]\n",
        "\n",
        "    #And then store them in a temporary buffer variable in a list format to facilitate future calculations\n",
        "    tempRatingList = temp_df['rating'].tolist()\n",
        "   \n",
        "    #Let's also put the current user group reviews in a list format\n",
        "    tempGroupList = group['rating'].tolist()\n",
        "   \n",
        "    \n",
        "    #Now let's calculate the pearson correlation between two users, so called, x and y manually (check the formula from week 7 slide)\n",
        "    Sxx = sum([i**2 for i in tempRatingList]) - pow(sum(tempRatingList),2)/float(nRatings)\n",
        "    Syy = sum([i**2 for i in tempGroupList]) - pow(sum(tempGroupList),2)/float(nRatings)\n",
        "    Sxy = sum( i*j for i, j in zip(tempRatingList, tempGroupList)) - sum(tempRatingList)*sum(tempGroupList)/float(nRatings)\n",
        "\n",
        "    #If the denominator is different than zero, then divide, else, 0 correlation.\n",
        "    if Sxx != 0 and Syy != 0:\n",
        "        pearsonCorrelationDict[name] = Sxy/sqrt(Sxx*Syy)\n",
        "    else:\n",
        "        pearsonCorrelationDict[name] = 0\n",
        "    \n"
      ]
    },
    {
      "cell_type": "code",
      "source": [],
      "metadata": {
        "id": "VIc5LBDZyhgB"
      },
      "execution_count": null,
      "outputs": []
    },
    {
      "cell_type": "code",
      "execution_count": 41,
      "metadata": {
        "colab": {
          "base_uri": "https://localhost:8080/"
        },
        "id": "Ozp4EqHsNjuX",
        "outputId": "9ceb1ad0-7cd0-415c-dc08-faa2221a6dd0"
      },
      "outputs": [
        {
          "output_type": "stream",
          "name": "stdout",
          "text": [
            "   similarityIndex  user_id\n",
            "0         0.000000       42\n",
            "1         0.764530       48\n",
            "2         0.343728       73\n",
            "3         0.663889      150\n",
            "4        -0.801636      164\n"
          ]
        }
      ],
      "source": [
        "pearsonDF = pd.DataFrame.from_dict(pearsonCorrelationDict, orient='index')\n",
        "pearsonDF.columns = ['similarityIndex']\n",
        "pearsonDF['user_id'] = pearsonDF.index\n",
        "pearsonDF.index = range(len(pearsonDF))\n",
        "print(pearsonDF.head())\n"
      ]
    },
    {
      "cell_type": "code",
      "execution_count": 42,
      "metadata": {
        "colab": {
          "base_uri": "https://localhost:8080/"
        },
        "id": "R89syb-KNjuY",
        "outputId": "215e8e31-ae5d-45b1-dbba-c6fccd0c3823"
      },
      "outputs": [
        {
          "output_type": "stream",
          "name": "stdout",
          "text": [
            "    similarityIndex  user_id\n",
            "62         0.969982     3520\n",
            "47         0.937198     3033\n",
            "42         0.921032     2868\n",
            "27         0.921032     1950\n",
            "40         0.914610     2697\n"
          ]
        }
      ],
      "source": [
        "topUsers=pearsonDF.sort_values(by='similarityIndex', ascending=False)[0:50]\n",
        "print(topUsers.head())"
      ]
    },
    {
      "cell_type": "code",
      "execution_count": 45,
      "metadata": {
        "colab": {
          "base_uri": "https://localhost:8080/"
        },
        "id": "Y5BLrcz7NjuZ",
        "outputId": "b4f2aa3f-61f0-4ed8-d31a-91b0a1d26fd1"
      },
      "outputs": [
        {
          "output_type": "stream",
          "name": "stdout",
          "text": [
            "    similarityIndex  user_id  anime_id  rating\n",
            "0          0.969982     3520      1549       7\n",
            "1          0.969982     3520      2884       8\n",
            "2          0.969982     3520       313       7\n",
            "3          0.969982     3520      1292       8\n",
            "4          0.969982     3520      4970       4\n",
            "..              ...      ...       ...     ...\n",
            "95         0.969982     3520      2025       8\n",
            "96         0.969982     3520      4182       7\n",
            "97         0.969982     3520      6573       6\n",
            "98         0.969982     3520       974       9\n",
            "99         0.969982     3520      6880       6\n",
            "\n",
            "[100 rows x 4 columns]\n"
          ]
        }
      ],
      "source": [
        "topUsersRating=topUsers.merge(ratings_df, left_on='user_id', right_on='user_id', how='inner')\n",
        "print(topUsersRating.head(100))"
      ]
    },
    {
      "cell_type": "code",
      "execution_count": 46,
      "metadata": {
        "colab": {
          "base_uri": "https://localhost:8080/"
        },
        "id": "xHTIZNdwNjuZ",
        "outputId": "2c3b68a7-f061-43a3-8ad3-27e78dd68891"
      },
      "outputs": [
        {
          "output_type": "stream",
          "name": "stdout",
          "text": [
            "   similarityIndex  user_id  anime_id  rating  weightedRating\n",
            "0         0.969982     3520      1549       7        6.789873\n",
            "1         0.969982     3520      2884       8        7.759855\n",
            "2         0.969982     3520       313       7        6.789873\n",
            "3         0.969982     3520      1292       8        7.759855\n",
            "4         0.969982     3520      4970       4        3.879927\n"
          ]
        }
      ],
      "source": [
        "#Multiplies the similarity by the user’s ratings\n",
        "topUsersRating['weightedRating'] = topUsersRating['similarityIndex']*topUsersRating['rating']\n",
        "print(topUsersRating.head())"
      ]
    },
    {
      "cell_type": "code",
      "execution_count": 47,
      "metadata": {
        "colab": {
          "base_uri": "https://localhost:8080/"
        },
        "id": "nsQ624GXNjua",
        "outputId": "ead6af44-864f-4164-aff5-6073d8c102ab"
      },
      "outputs": [
        {
          "output_type": "stream",
          "name": "stdout",
          "text": [
            "          sum_similarityIndex  sum_weightedRating\n",
            "anime_id                                         \n",
            "1                   36.865057          348.916322\n",
            "5                   30.367117          263.457101\n",
            "6                   36.865057          326.401366\n",
            "7                   36.865057          252.037294\n",
            "8                    1.002261            4.208074\n"
          ]
        }
      ],
      "source": [
        "#Applies a sum to the topUsers after grouping it up by movieId\n",
        "tempTopUsersRating = topUsersRating.groupby('anime_id').sum()[['similarityIndex','weightedRating']]\n",
        "tempTopUsersRating.columns = ['sum_similarityIndex','sum_weightedRating']\n",
        "print(tempTopUsersRating.head())"
      ]
    },
    {
      "cell_type": "code",
      "execution_count": 48,
      "metadata": {
        "colab": {
          "base_uri": "https://localhost:8080/"
        },
        "id": "yFLw-nzNNjua",
        "outputId": "b6732c2e-ee30-4517-abee-3f723eaf7980"
      },
      "outputs": [
        {
          "output_type": "stream",
          "name": "stdout",
          "text": [
            "          weighted average recommendation score  anime_id\n",
            "anime_id                                                 \n",
            "1                                      9.464690         1\n",
            "5                                      8.675736         5\n",
            "6                                      8.853950         6\n",
            "7                                      6.836753         7\n",
            "8                                      4.198582         8\n",
            "15                                     7.002883        15\n",
            "16                                     8.125057        16\n",
            "17                                     5.000000        17\n",
            "18                                     7.024955        18\n",
            "19                                     7.814263        19\n"
          ]
        }
      ],
      "source": [
        "#Creates an empty dataframe\n",
        "recommendation_df = pd.DataFrame()\n",
        "\n",
        "#Now we take the weighted average\n",
        "recommendation_df['weighted average recommendation score'] = tempTopUsersRating['sum_weightedRating']/tempTopUsersRating['sum_similarityIndex']\n",
        "recommendation_df['anime_id'] = tempTopUsersRating.index\n",
        "print(recommendation_df.head(10))"
      ]
    },
    {
      "cell_type": "code",
      "execution_count": 49,
      "metadata": {
        "colab": {
          "base_uri": "https://localhost:8080/"
        },
        "id": "A1tNpC07Njuc",
        "outputId": "82f88960-69ec-45c1-cbfd-e71d13b8db78"
      },
      "outputs": [
        {
          "output_type": "stream",
          "name": "stdout",
          "text": [
            "          weighted average recommendation score  anime_id\n",
            "anime_id                                                 \n",
            "1203                                       10.0      1203\n",
            "29893                                      10.0     29893\n",
            "15417                                      10.0     15417\n",
            "1738                                       10.0      1738\n",
            "39198                                      10.0     39198\n",
            "...                                         ...       ...\n",
            "10209                                       0.0     10209\n",
            "23309                                       0.0     23309\n",
            "1451                                        0.0      1451\n",
            "10338                                       0.0     10338\n",
            "5869                                        0.0      5869\n",
            "\n",
            "[3552 rows x 2 columns]\n"
          ]
        }
      ],
      "source": [
        "recommendation_df = recommendation_df.sort_values(by='weighted average recommendation score', ascending=False)\n",
        "print(recommendation_df)\n"
      ]
    },
    {
      "cell_type": "code",
      "execution_count": 51,
      "metadata": {
        "colab": {
          "base_uri": "https://localhost:8080/"
        },
        "id": "5liD4u2aNjud",
        "outputId": "adcedae7-1f70-448d-ab22-2a72f73a7bdc"
      },
      "outputs": [
        {
          "output_type": "stream",
          "name": "stdout",
          "text": [
            "       anime_id                                              title  \\\n",
            "1             5                    Cowboy Bebop: Tengoku no Tobira   \n",
            "4             8                                     Bouken Ou Beet   \n",
            "5            15                                       Eyeshield 21   \n",
            "6            16                               Hachimitsu to Clover   \n",
            "7            17                         Hungry Heart: Wild Striker   \n",
            "...         ...                                                ...   \n",
            "14929     41389                                    Tonikaku Kawaii   \n",
            "14958     41468                                     Burn the Witch   \n",
            "15007     41611                                      Wan Sheng Jie   \n",
            "15124     42143                                        Aya to Majo   \n",
            "15152     42203  Re:Zero kara Hajimeru Isekai Seikatsu 2nd Seas...   \n",
            "\n",
            "                                         genres    media  episodes  rating  \\\n",
            "1             Action,Drama,Mystery,Sci-Fi,Space    movie         1    8.39   \n",
            "4        Adventure,Fantasy,Shounen,Supernatural       tv        52    6.97   \n",
            "5                  Action,Sports,Comedy,Shounen       tv       145    7.94   \n",
            "6      Comedy,Drama,Josei,Romance,Slice of Life       tv        24    8.05   \n",
            "7           Slice of Life,Comedy,Sports,Shounen       tv        52    7.58   \n",
            "...                                         ...      ...       ...     ...   \n",
            "14929                    Comedy,Romance,Shounen       tv        12    7.93   \n",
            "14958              Action,Magic,Fantasy,Shounen    movie         3    7.16   \n",
            "15007         Slice of Life,Comedy,Supernatural      ona        12    7.94   \n",
            "15124                                     Magic  special         1    5.68   \n",
            "15152      Psychological,Drama,Thriller,Fantasy       tv        12    8.62   \n",
            "\n",
            "        members  start_date       season       source  \n",
            "1      284827.0    2001/9/1  summer_2001     original  \n",
            "4       13450.0   2004/9/30    fall_2004        manga  \n",
            "5      152647.0    2005/4/6  spring_2005        manga  \n",
            "6      220209.0   2005/4/15  spring_2005        manga  \n",
            "7       20934.0   2002/9/11    fall_2002        manga  \n",
            "...         ...         ...          ...          ...  \n",
            "14929  382345.0   2020/10/3    fall_2020        manga  \n",
            "14958  144327.0   2020/10/2    fall_2020        manga  \n",
            "15007    8600.0    2020/4/1  spring_2020    web_manga  \n",
            "15124    5041.0  2020/12/30    fall_2020        novel  \n",
            "15152  462651.0    2021/1/6  winter_2021  light_novel  \n",
            "\n",
            "[3507 rows x 10 columns]\n"
          ]
        }
      ],
      "source": [
        "recommended_movie=animes_df.loc[animes_df['anime_id'].isin(recommendation_df['anime_id'])]\n",
        "\n",
        "#we don't want to recommend the same movie\n",
        "recommended_movie=recommended_movie.loc[~recommended_movie.anime_id.isin(userSubset['anime_id'])]\n",
        "\n",
        "print(recommended_movie)"
      ]
    },
    {
      "cell_type": "code",
      "execution_count": null,
      "metadata": {
        "id": "1z7iFHhVNjud"
      },
      "outputs": [],
      "source": []
    }
  ],
  "metadata": {
    "kernelspec": {
      "display_name": "Python 3",
      "language": "python",
      "name": "python3"
    },
    "language_info": {
      "codemirror_mode": {
        "name": "ipython",
        "version": 3
      },
      "file_extension": ".py",
      "mimetype": "text/x-python",
      "name": "python",
      "nbconvert_exporter": "python",
      "pygments_lexer": "ipython3",
      "version": "3.7.4"
    },
    "colab": {
      "provenance": []
    }
  },
  "nbformat": 4,
  "nbformat_minor": 0
}